{
 "cells": [
  {
   "cell_type": "code",
   "execution_count": 0,
   "metadata": {
    "application/vnd.databricks.v1+cell": {
     "cellMetadata": {
      "byteLimit": 2048000,
      "rowLimit": 10000
     },
     "inputWidgets": {},
     "nuid": "015611b9-a911-46d3-a7de-0760e181856d",
     "showTitle": false,
     "tableResultSettingsMap": {},
     "title": ""
    }
   },
   "outputs": [
    {
     "output_type": "stream",
     "name": "stderr",
     "output_type": "stream",
     "text": [
      "  % Total    % Received % Xferd  Average Speed   Time    Time     Time  Current\n                                 Dload  Upload   Total   Spent    Left  Speed\n\r  0     0    0     0    0     0      0      0 --:--:-- --:--:-- --:--:--     0\r  2  752M    2 20.9M    0     0  23.1M      0  0:00:32 --:--:--  0:00:32 23.1M\r 13  752M   13  105M    0     0  60.2M      0  0:00:12  0:00:01  0:00:11 60.2M\r 30  752M   30  227M    0     0  82.8M      0  0:00:09  0:00:02  0:00:07 82.8M\r 55  752M   55  417M    0     0   111M      0  0:00:06  0:00:03  0:00:03  111M\r 82  752M   82  624M    0     0   131M      0  0:00:05  0:00:04  0:00:01  131M\r100  752M  100  752M    0     0   142M      0  0:00:05  0:00:05 --:--:--  167M\n"
     ]
    },
    {
     "output_type": "stream",
     "name": "stdout",
     "output_type": "stream",
     "text": [
      "Archive:  /tmp/openpayments_2023.zip\n  inflating: /tmp/openpayments_2023/OP_PGYR2023_README_P01302025.txt  \n  inflating: /tmp/openpayments_2023/OP_DTL_OWNRSHP_PGYR2023_P01302025_01212025.csv  \n  inflating: /tmp/openpayments_2023/OP_DTL_GNRL_PGYR2023_P01302025_01212025.csv  \n  inflating: /tmp/openpayments_2023/OP_DTL_RSRCH_PGYR2023_P01302025_01212025.csv  \n  inflating: /tmp/openpayments_2023/OP_REMOVED_DELETED_PGYR2023_P01302025_01212025.csv  \n"
     ]
    }
   ],
   "source": [
    "%%sh\n",
    "# Download the CMS Open Payments ZIP file\n",
    "curl -L https://download.cms.gov/openpayments/PGYR2023_P01302025_01212025.zip -o /tmp/openpayments_2023.zip\n",
    "\n",
    "# Unzip the file to a directory\n",
    "unzip /tmp/openpayments_2023.zip -d /tmp/openpayments_2023"
   ]
  },
  {
   "cell_type": "code",
   "execution_count": 0,
   "metadata": {
    "application/vnd.databricks.v1+cell": {
     "cellMetadata": {
      "byteLimit": 2048000,
      "rowLimit": 10000
     },
     "inputWidgets": {},
     "nuid": "90fb180a-e8b2-4022-8239-e556bae472fe",
     "showTitle": false,
     "tableResultSettingsMap": {},
     "title": ""
    }
   },
   "outputs": [],
   "source": [
    "open_payments = spark.read.csv(\"file:/tmp/openpayments_2023/OP_DTL_GNRL_PGYR2023_P01302025_01212025.csv\", header=True, inferSchema=True)\n",
    "\n",
    "open_payments.write \\\n",
    "    .format(\"delta\") \\\n",
    "    .mode(\"overwrite\") \\\n",
    "    .saveAsTable(\"General_2023_OpenPayments\")"
   ]
  },
  {
   "cell_type": "code",
   "execution_count": 0,
   "metadata": {
    "application/vnd.databricks.v1+cell": {
     "cellMetadata": {
      "byteLimit": 2048000,
      "rowLimit": 10000
     },
     "inputWidgets": {},
     "nuid": "d3542dab-f4a0-4c68-93b7-ed18bc6639db",
     "showTitle": false,
     "tableResultSettingsMap": {},
     "title": ""
    }
   },
   "outputs": [
    {
     "output_type": "stream",
     "name": "stdout",
     "output_type": "stream",
     "text": [
      "Out[3]: ['Change_Type',\n 'Covered_Recipient_Type',\n 'Teaching_Hospital_CCN',\n 'Teaching_Hospital_ID',\n 'Teaching_Hospital_Name',\n 'Covered_Recipient_Profile_ID',\n 'Covered_Recipient_NPI',\n 'Covered_Recipient_First_Name',\n 'Covered_Recipient_Middle_Name',\n 'Covered_Recipient_Last_Name',\n 'Covered_Recipient_Name_Suffix',\n 'Recipient_Primary_Business_Street_Address_Line1',\n 'Recipient_Primary_Business_Street_Address_Line2',\n 'Recipient_City',\n 'Recipient_State',\n 'Recipient_Zip_Code',\n 'Recipient_Country',\n 'Recipient_Province',\n 'Recipient_Postal_Code',\n 'Covered_Recipient_Primary_Type_1',\n 'Covered_Recipient_Primary_Type_2',\n 'Covered_Recipient_Primary_Type_3',\n 'Covered_Recipient_Primary_Type_4',\n 'Covered_Recipient_Primary_Type_5',\n 'Covered_Recipient_Primary_Type_6',\n 'Covered_Recipient_Specialty_1',\n 'Covered_Recipient_Specialty_2',\n 'Covered_Recipient_Specialty_3',\n 'Covered_Recipient_Specialty_4',\n 'Covered_Recipient_Specialty_5',\n 'Covered_Recipient_Specialty_6',\n 'Covered_Recipient_License_State_code1',\n 'Covered_Recipient_License_State_code2',\n 'Covered_Recipient_License_State_code3',\n 'Covered_Recipient_License_State_code4',\n 'Covered_Recipient_License_State_code5',\n 'Submitting_Applicable_Manufacturer_or_Applicable_GPO_Name',\n 'Applicable_Manufacturer_or_Applicable_GPO_Making_Payment_ID',\n 'Applicable_Manufacturer_or_Applicable_GPO_Making_Payment_Name',\n 'Applicable_Manufacturer_or_Applicable_GPO_Making_Payment_State',\n 'Applicable_Manufacturer_or_Applicable_GPO_Making_Payment_Country',\n 'Total_Amount_of_Payment_USDollars',\n 'Date_of_Payment',\n 'Number_of_Payments_Included_in_Total_Amount',\n 'Form_of_Payment_or_Transfer_of_Value',\n 'Nature_of_Payment_or_Transfer_of_Value',\n 'City_of_Travel',\n 'State_of_Travel',\n 'Country_of_Travel',\n 'Physician_Ownership_Indicator',\n 'Third_Party_Payment_Recipient_Indicator',\n 'Name_of_Third_Party_Entity_Receiving_Payment_or_Transfer_of_Value',\n 'Charity_Indicator',\n 'Third_Party_Equals_Covered_Recipient_Indicator',\n 'Contextual_Information',\n 'Delay_in_Publication_Indicator',\n 'Record_ID',\n 'Dispute_Status_for_Publication',\n 'Related_Product_Indicator',\n 'Covered_or_Noncovered_Indicator_1',\n 'Indicate_Drug_or_Biological_or_Device_or_Medical_Supply_1',\n 'Product_Category_or_Therapeutic_Area_1',\n 'Name_of_Drug_or_Biological_or_Device_or_Medical_Supply_1',\n 'Associated_Drug_or_Biological_NDC_1',\n 'Associated_Device_or_Medical_Supply_PDI_1',\n 'Covered_or_Noncovered_Indicator_2',\n 'Indicate_Drug_or_Biological_or_Device_or_Medical_Supply_2',\n 'Product_Category_or_Therapeutic_Area_2',\n 'Name_of_Drug_or_Biological_or_Device_or_Medical_Supply_2',\n 'Associated_Drug_or_Biological_NDC_2',\n 'Associated_Device_or_Medical_Supply_PDI_2',\n 'Covered_or_Noncovered_Indicator_3',\n 'Indicate_Drug_or_Biological_or_Device_or_Medical_Supply_3',\n 'Product_Category_or_Therapeutic_Area_3',\n 'Name_of_Drug_or_Biological_or_Device_or_Medical_Supply_3',\n 'Associated_Drug_or_Biological_NDC_3',\n 'Associated_Device_or_Medical_Supply_PDI_3',\n 'Covered_or_Noncovered_Indicator_4',\n 'Indicate_Drug_or_Biological_or_Device_or_Medical_Supply_4',\n 'Product_Category_or_Therapeutic_Area_4',\n 'Name_of_Drug_or_Biological_or_Device_or_Medical_Supply_4',\n 'Associated_Drug_or_Biological_NDC_4',\n 'Associated_Device_or_Medical_Supply_PDI_4',\n 'Covered_or_Noncovered_Indicator_5',\n 'Indicate_Drug_or_Biological_or_Device_or_Medical_Supply_5',\n 'Product_Category_or_Therapeutic_Area_5',\n 'Name_of_Drug_or_Biological_or_Device_or_Medical_Supply_5',\n 'Associated_Drug_or_Biological_NDC_5',\n 'Associated_Device_or_Medical_Supply_PDI_5',\n 'Program_Year',\n 'Payment_Publication_Date']"
     ]
    }
   ],
   "source": [
    "open_payments.columns"
   ]
  },
  {
   "cell_type": "code",
   "execution_count": 0,
   "metadata": {
    "application/vnd.databricks.v1+cell": {
     "cellMetadata": {
      "byteLimit": 2048000,
      "rowLimit": 10000
     },
     "inputWidgets": {},
     "nuid": "66cce2ed-d956-4421-ad74-26dd758cebb9",
     "showTitle": false,
     "tableResultSettingsMap": {},
     "title": ""
    }
   },
   "outputs": [
    {
     "output_type": "stream",
     "name": "stdout",
     "output_type": "stream",
     "text": [
      "Out[4]: ['Covered_Recipient_Profile_Type',\n 'Covered_Recipient_Profile_ID',\n 'Associated_Covered_Recipient_Profile_ID_1',\n 'Associated_Covered_Recipient_Profile_ID_2',\n 'Covered_Recipient_NPI',\n 'Covered_Recipient_Profile_First_Name',\n 'Covered_Recipient_Profile_Middle_Name',\n 'Covered_Recipient_Profile_Last_Name',\n 'Covered_Recipient_Profile_Suffix',\n 'Covered_Recipient_Profile_Alternate_First_Name',\n 'Covered_Recipient_Profile_Alternate_Middle_Name',\n 'Covered_Recipient_Profile_Alternate_Last_Name',\n 'Covered_Recipient_Profile_Alternate_Suffix',\n 'Covered_Recipient_Profile_Address_Line_1',\n 'Covered_Recipient_Profile_Address_Line_2',\n 'Covered_Recipient_Profile_City',\n 'Covered_Recipient_Profile_State',\n 'Covered_Recipient_Profile_Zipcode',\n 'Covered_Recipient_Profile_Country_Name',\n 'Covered_Recipient_Profile_Province_Name',\n 'Covered_Recipient_Profile_Primary_Specialty',\n 'Covered_Recipient_Profile_OPS_Taxonomy_1',\n 'Covered_Recipient_Profile_OPS_Taxonomy_2',\n 'Covered_Recipient_Profile_OPS_Taxonomy_3',\n 'Covered_Recipient_Profile_OPS_Taxonomy_4',\n 'Covered_Recipient_Profile_OPS_Taxonomy_5',\n 'Covered_Recipient_Profile_OPS_Taxonomy_6',\n 'Covered_Recipient_Profile_License_State_Code_1',\n 'Covered_Recipient_Profile_License_State_Code_2',\n 'Covered_Recipient_Profile_License_State_Code_3',\n 'Covered_Recipient_Profile_License_State_Code_4',\n 'Covered_Recipient_Profile_License_State_Code_5']"
     ]
    }
   ],
   "source": [
    "# File location and type\n",
    "file_location = \"/FileStore/tables/OP_CVRD_RCPNT_PRFL_SPLMTL_P01302025_01212025.csv\"\n",
    "file_type = \"csv\"\n",
    "\n",
    "# CSV options\n",
    "infer_schema = \"false\"\n",
    "first_row_is_header = \"true\"\n",
    "delimiter = \",\"\n",
    "\n",
    "# The applied options are for CSV files. For other file types, these will be ignored.\n",
    "recipients = spark.read.format(file_type) \\\n",
    "  .option(\"inferSchema\", infer_schema) \\\n",
    "  .option(\"header\", first_row_is_header) \\\n",
    "  .option(\"sep\", delimiter) \\\n",
    "  .load(file_location)\n",
    "\n",
    "recipients.columns"
   ]
  },
  {
   "cell_type": "code",
   "execution_count": 0,
   "metadata": {
    "application/vnd.databricks.v1+cell": {
     "cellMetadata": {
      "byteLimit": 2048000,
      "rowLimit": 10000
     },
     "inputWidgets": {},
     "nuid": "65b5323f-bf29-4cd9-8045-e309f0285b59",
     "showTitle": false,
     "tableResultSettingsMap": {},
     "title": ""
    }
   },
   "outputs": [
    {
     "output_type": "stream",
     "name": "stdout",
     "output_type": "stream",
     "text": [
      "+--------------------------------------------------------------------------------------------------------------------------------------------------+------+\n|Nature_of_Payment_or_Transfer_of_Value                                                                                                            |count |\n+--------------------------------------------------------------------------------------------------------------------------------------------------+------+\n|Compensation for services other than consulting, including serving as faculty or as a speaker at a venue other than a continuing education program|164092|\n|Consulting Fee                                                                                                                                    |105228|\n|Travel and Lodging                                                                                                                                |24738 |\n|Honoraria                                                                                                                                         |13750 |\n|Education                                                                                                                                         |13376 |\n|Royalty or License                                                                                                                                |11534 |\n|Compensation for serving as faculty or as a speaker for a medical education program                                                               |8658  |\n|Grant                                                                                                                                             |4922  |\n|Space rental or facility fees (teaching hospital only)                                                                                            |4917  |\n|Long term medical supply or device loan                                                                                                           |2930  |\n|Debt forgiveness                                                                                                                                  |1787  |\n|Food and Beverage                                                                                                                                 |966   |\n|Gift                                                                                                                                              |630   |\n|Acquisitions                                                                                                                                      |562   |\n|Charitable Contribution                                                                                                                           |239   |\n|Entertainment                                                                                                                                     |30    |\n+--------------------------------------------------------------------------------------------------------------------------------------------------+------+\n\n"
     ]
    }
   ],
   "source": [
    "from pyspark.sql.functions import col\n",
    "\n",
    "open_payments.filter(col(\"Total_Amount_of_Payment_USDollars\") > 1000) \\\n",
    "    .groupBy(\"Nature_of_Payment_or_Transfer_of_Value\") \\\n",
    "    .count() \\\n",
    "    .orderBy(\"count\", ascending=False) \\\n",
    "    .show(truncate=False)"
   ]
  },
  {
   "cell_type": "markdown",
   "metadata": {
    "application/vnd.databricks.v1+cell": {
     "cellMetadata": {},
     "inputWidgets": {},
     "nuid": "0ab83541-60be-4b7e-85ed-0568bc5cf1c9",
     "showTitle": false,
     "tableResultSettingsMap": {},
     "title": ""
    }
   },
   "source": [
    "The payment type “Compensation for services other than consulting” was recorded 164,092 times for amounts above $1,000 while “Consulting Fee” (105,228) and “Travel and Lodging” (24,738) followed as secondary options. The most common payment types after “Compensation for services other than consulting” were “Honoraria” and “Education” and “Royalty or License” and “Grants” with “Debt forgiveness” and “Acquisitions” and “Charitable Contribution” appearing less often but at high values."
   ]
  },
  {
   "cell_type": "code",
   "execution_count": 0,
   "metadata": {
    "application/vnd.databricks.v1+cell": {
     "cellMetadata": {
      "byteLimit": 2048000,
      "rowLimit": 10000
     },
     "inputWidgets": {},
     "nuid": "83c1f54d-a770-4431-9229-8b5170be89f1",
     "showTitle": false,
     "tableResultSettingsMap": {},
     "title": ""
    }
   },
   "outputs": [
    {
     "output_type": "stream",
     "name": "stdout",
     "output_type": "stream",
     "text": [
      "+--------------------------------------------------------------------------------------------------------------------------------------------------+--------+\n|Nature_of_Payment_or_Transfer_of_Value                                                                                                            |count   |\n+--------------------------------------------------------------------------------------------------------------------------------------------------+--------+\n|Food and Beverage                                                                                                                                 |13378464|\n|Travel and Lodging                                                                                                                                |545086  |\n|Compensation for services other than consulting, including serving as faculty or as a speaker at a venue other than a continuing education program|236628  |\n|Consulting Fee                                                                                                                                    |170630  |\n|Education                                                                                                                                         |161078  |\n|Gift                                                                                                                                              |31786   |\n|Honoraria                                                                                                                                         |20232   |\n|Royalty or License                                                                                                                                |15865   |\n|Compensation for serving as faculty or as a speaker for a medical education program                                                               |12234   |\n|Entertainment                                                                                                                                     |7967    |\n+--------------------------------------------------------------------------------------------------------------------------------------------------+--------+\n\n"
     ]
    }
   ],
   "source": [
    "open_payments.groupBy(\"Nature_of_Payment_or_Transfer_of_Value\") \\\n",
    "    .count() \\\n",
    "    .orderBy(\"count\", ascending=False) \\\n",
    "    .limit(10) \\\n",
    "    .show(truncate=False)"
   ]
  },
  {
   "cell_type": "markdown",
   "metadata": {
    "application/vnd.databricks.v1+cell": {
     "cellMetadata": {},
     "inputWidgets": {},
     "nuid": "4e95e0e5-1aeb-4762-bb09-2e665cf70d5f",
     "showTitle": false,
     "tableResultSettingsMap": {},
     "title": ""
    }
   },
   "source": [
    "Among the overall top ten Nature of Payments “Food and Beverage” maintained the highest count at 13,378,243 while “Travel and Lodging” (545,086) and “Compensation for services other than consulting” (236,628) followed at lower positions. The most common types of payments recorded in the dataset included Consulting Fee and Education and Gift and Honoraria and Royalty or License which demonstrate the wide range of support provided to recipients."
   ]
  },
  {
   "cell_type": "code",
   "execution_count": 0,
   "metadata": {
    "application/vnd.databricks.v1+cell": {
     "cellMetadata": {
      "byteLimit": 2048000,
      "rowLimit": 10000
     },
     "inputWidgets": {},
     "nuid": "c25bb916-a891-4136-a431-fe8247847a0e",
     "showTitle": false,
     "tableResultSettingsMap": {},
     "title": ""
    }
   },
   "outputs": [
    {
     "output_type": "stream",
     "name": "stdout",
     "output_type": "stream",
     "text": [
      "+--------------------------------------------------------------------------------------------------------------------------------------------------+--------------------+\n|Nature_of_Payment_or_Transfer_of_Value                                                                                                            |total_amount        |\n+--------------------------------------------------------------------------------------------------------------------------------------------------+--------------------+\n|Royalty or License                                                                                                                                |1.19217456302E9     |\n|Compensation for services other than consulting, including serving as faculty or as a speaker at a venue other than a continuing education program|5.946326876500002E8 |\n|Consulting Fee                                                                                                                                    |5.148558758999996E8 |\n|Food and Beverage                                                                                                                                 |3.744878240099897E8 |\n|Travel and Lodging                                                                                                                                |1.7954842378000867E8|\n|Grant                                                                                                                                             |1.1188856182E8      |\n|Acquisitions                                                                                                                                      |7.192577675999999E7 |\n|Education                                                                                                                                         |6.469532594000257E7 |\n|Honoraria                                                                                                                                         |5.585182388999997E7 |\n|Long term medical supply or device loan                                                                                                           |3.009879195E7       |\n+--------------------------------------------------------------------------------------------------------------------------------------------------+--------------------+\n\n"
     ]
    }
   ],
   "source": [
    "from pyspark.sql.functions import sum as _sum\n",
    "\n",
    "open_payments.groupBy(\"Nature_of_Payment_or_Transfer_of_Value\") \\\n",
    "    .agg(_sum(\"Total_Amount_of_Payment_USDollars\").alias(\"total_amount\")) \\\n",
    "    .orderBy(\"total_amount\", ascending=False) \\\n",
    "    .limit(10) \\\n",
    "    .show(truncate=False)"
   ]
  },
  {
   "cell_type": "markdown",
   "metadata": {
    "application/vnd.databricks.v1+cell": {
     "cellMetadata": {},
     "inputWidgets": {},
     "nuid": "50615f81-62e7-4caf-b6e3-2a304db29b27",
     "showTitle": false,
     "tableResultSettingsMap": {},
     "title": ""
    }
   },
   "source": [
    "The top Nature of Payment category based on dollar value was \"Royalty or License\" which exceeded $1.19 billion while other categories remained below this amount. The second largest Nature of Payment was \"Compensation for services other than consulting\" at $594 million and the third was \"Consulting Fee\" at $515 million. The high-value payment categories also included “Food and Beverage” together with “Travel and Lodging” and “Grants” and “Acquisitions” which demonstrate that although payments happen less often they have significant monetary value."
   ]
  },
  {
   "cell_type": "code",
   "execution_count": 0,
   "metadata": {
    "application/vnd.databricks.v1+cell": {
     "cellMetadata": {
      "byteLimit": 2048000,
      "rowLimit": 10000
     },
     "inputWidgets": {},
     "nuid": "6e634ee5-daa4-42df-944b-29e26db12f21",
     "showTitle": false,
     "tableResultSettingsMap": {},
     "title": ""
    }
   },
   "outputs": [
    {
     "output_type": "stream",
     "name": "stdout",
     "output_type": "stream",
     "text": [
      "+------------------------------------------------------------------------------------------------+-------------------+\n|Covered_Recipient_Profile_Primary_Specialty                                                     |total_amount       |\n+------------------------------------------------------------------------------------------------+-------------------+\n|Allopathic & Osteopathic Physicians|Orthopaedic Surgery                                         |3.777555961599989E8|\n|Allopathic & Osteopathic Physicians|Psychiatry & Neurology|Neurology                            |8.680715036999995E7|\n|Allopathic & Osteopathic Physicians|Neurological Surgery                                        |8.587046902999997E7|\n|Allopathic & Osteopathic Physicians|Dermatology                                                 |8.076589144000061E7|\n|null                                                                                            |7.78133707000005E7 |\n|Allopathic & Osteopathic Physicians|Orthopaedic Surgery|Adult Reconstructive Orthopaedic Surgery|7.277526618000008E7|\n|Allopathic & Osteopathic Physicians|Internal Medicine|Hematology & Oncology                     |6.576093498000081E7|\n|Allopathic & Osteopathic Physicians|Internal Medicine                                           |6.569865264000157E7|\n|Allopathic & Osteopathic Physicians|Psychiatry & Neurology|Psychiatry                           |6.548150061000042E7|\n|Allopathic & Osteopathic Physicians|Internal Medicine|Cardiovascular Disease                    |6.305718157000035E7|\n+------------------------------------------------------------------------------------------------+-------------------+\n\n"
     ]
    }
   ],
   "source": [
    "open_payments.join(recipients, on=\"Covered_Recipient_Profile_ID\", how=\"inner\") \\\n",
    "    .groupBy(\"Covered_Recipient_Profile_Primary_Specialty\") \\\n",
    "    .agg(_sum(\"Total_Amount_of_Payment_USDollars\").alias(\"total_amount\")) \\\n",
    "    .orderBy(\"total_amount\", ascending=False) \\\n",
    "    .limit(10) \\\n",
    "    .show(truncate=False)"
   ]
  },
  {
   "cell_type": "markdown",
   "metadata": {
    "application/vnd.databricks.v1+cell": {
     "cellMetadata": {},
     "inputWidgets": {},
     "nuid": "4613080c-a142-4d10-aeac-0701c30ffa1c",
     "showTitle": false,
     "tableResultSettingsMap": {},
     "title": ""
    }
   },
   "source": [
    "The medical specialty of “Orthopaedic Surgery” accepted the largest total payments exceeding $377 million which demonstrates robust financial connections between this field and the industry. The highest payments went to “Neurology” and “Neurological Surgery” followed by “Dermatology” while Internal Medicine subspecialties “Hematology & Oncology” and “Cardiovascular Disease” ranked among the ten highest earners. Several records contain insufficient or missing information about specialties as indicated by the occurrence of `null` fields."
   ]
  },
  {
   "cell_type": "code",
   "execution_count": 0,
   "metadata": {
    "application/vnd.databricks.v1+cell": {
     "cellMetadata": {
      "byteLimit": 2048000,
      "rowLimit": 10000
     },
     "inputWidgets": {},
     "nuid": "9c59b8f7-b68a-4980-ab63-05d0bb7de1c7",
     "showTitle": false,
     "tableResultSettingsMap": {},
     "title": ""
    }
   },
   "outputs": [
    {
     "output_type": "stream",
     "name": "stdout",
     "output_type": "stream",
     "text": [
      "+----------------------+-----------------+\n|Physician_Name        |total_amount     |\n+----------------------+-----------------+\n|STEPHEN S BURKHART    |3.392202493E7    |\n|WILLIAM JAY BINDER    |2.943435593E7    |\n|KEVIN T FOLEY         |1.730721365E7    |\n|IVAN OSORIO           |1.606551551E7    |\n|GEORGE PATRICK MAXWELL|1.160032024E7    |\n|ROBERT E BOOTH        |8459144.4        |\n|NEAL S ELATTRACHE     |7810628.199999999|\n|AARON ROSENBERG       |6871466.720000001|\n|ROGER P JACKSON       |6660383.800000001|\n|PETER M BONUTTI       |6385096.170000002|\n+----------------------+-----------------+\n\n"
     ]
    }
   ],
   "source": [
    "from pyspark.sql.functions import concat_ws\n",
    "\n",
    "open_payments.join(recipients, on=\"Covered_Recipient_Profile_ID\", how=\"inner\") \\\n",
    "    .withColumn(\"Physician_Name\", concat_ws(\" \", \n",
    "                                            col(\"Covered_Recipient_Profile_First_Name\"),\n",
    "                                            col(\"Covered_Recipient_Profile_Middle_Name\"),\n",
    "                                            col(\"Covered_Recipient_Profile_Last_Name\"))) \\\n",
    "    .groupBy(\"Physician_Name\") \\\n",
    "    .agg(_sum(\"Total_Amount_of_Payment_USDollars\").alias(\"total_amount\")) \\\n",
    "    .orderBy(\"total_amount\", ascending=False) \\\n",
    "    .limit(10) \\\n",
    "    .show(truncate=False)"
   ]
  },
  {
   "cell_type": "markdown",
   "metadata": {
    "application/vnd.databricks.v1+cell": {
     "cellMetadata": {},
     "inputWidgets": {},
     "nuid": "596f0282-1182-4179-af64-3ab7e75fe771",
     "showTitle": false,
     "tableResultSettingsMap": {},
     "title": ""
    }
   },
   "source": [
    "The physician with the most significant total payments was Stephen S. Burkhart who received $34 million while William Jay Binder followed with $29.4 million and Kevin T. Foley received $17.3 million. Medical specialists in orthopedics, neurosurgery and internal medicine form the top ten group of recipients who received substantial payments from medical device manufacturers."
   ]
  }
 ],
 "metadata": {
  "application/vnd.databricks.v1+notebook": {
   "computePreferences": null,
   "dashboards": [],
   "environmentMetadata": {
    "base_environment": "",
    "environment_version": "1"
   },
   "inputWidgetPreferences": null,
   "language": "python",
   "notebookMetadata": {
    "pythonIndentUnit": 4
   },
   "notebookName": "Untitled Notebook 2025-03-27 20:48:31",
   "widgets": {}
  }
 },
 "nbformat": 4,
 "nbformat_minor": 0
}